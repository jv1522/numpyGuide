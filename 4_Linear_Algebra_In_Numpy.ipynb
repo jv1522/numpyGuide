{
 "cells": [
  {
   "cell_type": "markdown",
   "metadata": {},
   "source": [
    "Numpy provides different types of objects to solve mathematical problems."
   ]
  },
  {
   "cell_type": "markdown",
   "metadata": {},
   "source": [
    "## 1) Matrix and vector operations"
   ]
  },
  {
   "cell_type": "code",
   "execution_count": 2,
   "metadata": {},
   "outputs": [],
   "source": [
    "import numpy as np"
   ]
  },
  {
   "cell_type": "code",
   "execution_count": 3,
   "metadata": {},
   "outputs": [
    {
     "name": "stdout",
     "output_type": "stream",
     "text": [
      "x is [[0 1 2]\n",
      " [3 4 5]\n",
      " [6 7 8]]\n",
      "y is [[1. 0. 0.]\n",
      " [0. 1. 0.]\n",
      " [0. 0. 1.]]\n"
     ]
    }
   ],
   "source": [
    "# Create numpy matrices\n",
    "ndArray = np.arange(9).reshape(3,3)\n",
    "x = np.matrix(ndArray)\n",
    "y = np.mat(np.identity(3))\n",
    "print(f\"x is {x}\")\n",
    "print(f\"y is {y}\")"
   ]
  },
  {
   "cell_type": "code",
   "execution_count": 4,
   "metadata": {},
   "outputs": [
    {
     "name": "stdout",
     "output_type": "stream",
     "text": [
      "Sum of matrix x and matrix y is [[1. 1. 2.]\n",
      " [3. 5. 5.]\n",
      " [6. 7. 9.]]\n"
     ]
    }
   ],
   "source": [
    "# Sum of two matrices\n",
    "print(f\"Sum of matrix x and matrix y is {x + y}\")"
   ]
  },
  {
   "cell_type": "code",
   "execution_count": 7,
   "metadata": {},
   "outputs": [
    {
     "name": "stdout",
     "output_type": "stream",
     "text": [
      "Product of matrix x and matrix y is [[0. 1. 2.]\n",
      " [3. 4. 5.]\n",
      " [6. 7. 8.]]\n"
     ]
    }
   ],
   "source": [
    "# Product of two matrices\n",
    "print(f\"Product of matrix x and matrix y is {x @ y}\")"
   ]
  },
  {
   "cell_type": "code",
   "execution_count": 10,
   "metadata": {},
   "outputs": [
    {
     "name": "stdout",
     "output_type": "stream",
     "text": [
      "Inverse of matrix [[ 9 25 28]\n",
      " [22 38 24]\n",
      " [41 48 20]] is [[ 0.09839357 -0.21184739  0.11646586]\n",
      " [-0.13654618  0.24297189 -0.10040161]\n",
      " [ 0.12600402 -0.14884538  0.05220884]]\n"
     ]
    },
    {
     "name": "stderr",
     "output_type": "stream",
     "text": [
      "c:\\users\\jv152\\ideaprojects\\numpyguide\\venv\\lib\\site-packages\\ipykernel_launcher.py:2: DeprecationWarning: This function is deprecated. Please call randint(1, 50 + 1) instead\n",
      "  \n"
     ]
    }
   ],
   "source": [
    "# Inverse of matrix\n",
    "x = np.matrix(np.random.random_integers(1, 50, 9).reshape(3,3))\n",
    "print(f\"Inverse of matrix {x} is {x.I}\")"
   ]
  },
  {
   "cell_type": "code",
   "execution_count": 12,
   "metadata": {},
   "outputs": [
    {
     "name": "stdout",
     "output_type": "stream",
     "text": [
      "[[ 0.26666667]\n",
      " [ 0.46666667]\n",
      " [-0.06666667]]\n",
      "True\n"
     ]
    }
   ],
   "source": [
    "# Solving linear equation Ax = b, x = Inverse(A).b\n",
    "A = np.mat('3 1 4; 1 5 9; 2 6 5')\n",
    "b = np.mat([[1], [2], [3]])\n",
    "x = A.I @ b\n",
    "print(x)\n",
    "# Evaluate Ax = b equation\n",
    "print(np.allclose(A @ x, b))"
   ]
  },
  {
   "cell_type": "markdown",
   "metadata": {},
   "source": [
    "## 2) Linear Algebra in Numpy"
   ]
  },
  {
   "cell_type": "code",
   "execution_count": 14,
   "metadata": {},
   "outputs": [
    {
     "name": "stdout",
     "output_type": "stream",
     "text": [
      "Dot product of x and y is \n",
      " [[ 70 100]\n",
      " [150 220]]\n"
     ]
    }
   ],
   "source": [
    "# Dot product of two vectors\n",
    "x = np.array([[1, 2], [3, 4]])\n",
    "y = np.array([[10, 20], [30, 40]])\n",
    "print(f\"Dot product of x and y is \\n {np.dot(x, y)}\")"
   ]
  },
  {
   "cell_type": "code",
   "execution_count": 15,
   "metadata": {},
   "outputs": [
    {
     "name": "stdout",
     "output_type": "stream",
     "text": [
      "VDot product of x and y is 300\n"
     ]
    }
   ],
   "source": [
    "# VDot product of two vectors, returns the sum of multiplication of corresponding elements in both matrices\n",
    "print(f\"VDot product of x and y is {np.vdot(x, y)}\")"
   ]
  },
  {
   "cell_type": "code",
   "execution_count": 18,
   "metadata": {},
   "outputs": [
    {
     "name": "stdout",
     "output_type": "stream",
     "text": [
      "Shape of x is (2, 2)\n",
      "Shape of x is (2, 2)\n",
      "Outer product of x and y is \n",
      " [[ 10  20  30  40]\n",
      " [ 20  40  60  80]\n",
      " [ 30  60  90 120]\n",
      " [ 40  80 120 160]]\n"
     ]
    }
   ],
   "source": [
    "# Numpy.outer() function is the outer product of two vectors. It flattens the input arrays if they are not one-dimensional.\n",
    "# If a flattened input vector A has shape (M, ) and the flattened input vector B has shape (N, ), then the result shape would be (M, N)\n",
    "print(f\"Shape of x is {x.shape}\")\n",
    "print(f\"Shape of x is {y.shape}\")\n",
    "print(f\"Outer product of x and y is \\n {np.outer(x, y)}\")"
   ]
  },
  {
   "cell_type": "code",
   "execution_count": null,
   "metadata": {},
   "outputs": [],
   "source": []
  }
 ],
 "metadata": {
  "kernelspec": {
   "display_name": "Python 3",
   "language": "python",
   "name": "python3"
  },
  "language_info": {
   "codemirror_mode": {
    "name": "ipython",
    "version": 3
   },
   "file_extension": ".py",
   "mimetype": "text/x-python",
   "name": "python",
   "nbconvert_exporter": "python",
   "pygments_lexer": "ipython3",
   "version": "3.7.6"
  }
 },
 "nbformat": 4,
 "nbformat_minor": 4
}
