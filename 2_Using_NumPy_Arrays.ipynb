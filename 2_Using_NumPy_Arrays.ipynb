{
 "cells": [
  {
   "cell_type": "markdown",
   "metadata": {},
   "source": [
    "## 1) Vectorized operations\n",
    "All numpy operations are vectorized, where the operations can be applied to the whole array instead of on each element individually."
   ]
  },
  {
   "cell_type": "code",
   "execution_count": 2,
   "metadata": {},
   "outputs": [
    {
     "name": "stdout",
     "output_type": "stream",
     "text": [
      "x + 1 is [2 3 4 5]\n",
      "x multiplied by y is [ 2  6 12 20]\n"
     ]
    }
   ],
   "source": [
    "#Simple calculations with scalars and Numpy Arrays\n",
    "import numpy as np\n",
    "x = np.array([1,2,3,4])\n",
    "# Add 1 to each element in array\n",
    "y = x + 1 # All the elements in the array are added by 1 simultaneously\n",
    "print(f\"x + 1 is {y}\")\n",
    "z = x * y\n",
    "print(f\"x multiplied by y is {z}\")"
   ]
  },
  {
   "cell_type": "markdown",
   "metadata": {},
   "source": [
    "<ul>\n",
    "    <li>Two Numpy Arrays are multiplied element by element</li>\n",
    "    <li>Arithmetic operations between two NumPy Arrays are not matrix multiplications</li>\n",
    "    <li>A matrix multiplication in NumPy will use numpy.dot()</li>"
   ]
  },
  {
   "cell_type": "code",
   "execution_count": 3,
   "metadata": {},
   "outputs": [
    {
     "name": "stdout",
     "output_type": "stream",
     "text": [
      "Dot product of x and y is 40\n"
     ]
    }
   ],
   "source": [
    "print(f\"Dot product of x and y is {np.dot(x,y)}\")"
   ]
  },
  {
   "cell_type": "code",
   "execution_count": 5,
   "metadata": {},
   "outputs": [
    {
     "data": {
      "text/plain": [
       "array([False, False, False, False])"
      ]
     },
     "execution_count": 5,
     "metadata": {},
     "output_type": "execute_result"
    }
   ],
   "source": [
    "# Comparing two numpy arrays\n",
    "x == y"
   ]
  },
  {
   "cell_type": "markdown",
   "metadata": {},
   "source": [
    "## 2) Universal functions (ufuncs)\n",
    "Numpy has many universal functions we can use them to eliminate as many loops to optimize the code. Ufuncs have a pretty good coverage in math, trigonometry, summary statistics, and comparison operations."
   ]
  },
  {
   "cell_type": "code",
   "execution_count": 7,
   "metadata": {},
   "outputs": [
    {
     "name": "stdout",
     "output_type": "stream",
     "text": [
      "x is [5 6 7 8 9]\n",
      "Square of x is [25 36 49 64 81]\n",
      "y is [10. 10. 10. 10. 10.]\n",
      "y mod x is [0. 4. 3. 2. 1.]\n"
     ]
    }
   ],
   "source": [
    "# Basic functions\n",
    "x = np.arange(5, 10)\n",
    "print(f\"x is {x}\")\n",
    "print(f\"Square of x is {np.square(x)}\")\n",
    "y = np.ones(5) * 10\n",
    "print(f\"y is {y}\")\n",
    "print(f\"y mod x is {np.mod(y, x)}\")"
   ]
  },
  {
   "cell_type": "code",
   "execution_count": 12,
   "metadata": {},
   "outputs": [
    {
     "name": "stdout",
     "output_type": "stream",
     "text": [
      "x is [5 6 7 8 9]\n",
      "z is [5 5 5 6 6 6 7 7 7 8 8 8 9 9 9]\n",
      "z is now [[5 5 5]\n",
      " [6 6 6]\n",
      " [7 7 7]\n",
      " [8 8 8]\n",
      " [9 9 9]]\n",
      "Median of z along 0 axis is [7. 7. 7.]\n",
      "Median of z along 1 axis is [5. 6. 7. 8. 9.]\n",
      "Median of z is 7.0\n"
     ]
    }
   ],
   "source": [
    "# More advanced functions\n",
    "print(f\"x is {x}\")\n",
    "z = np.repeat(x, 3) # Repeats each element in x three times\n",
    "print(f\"z is {z}\") \n",
    "z = np.repeat(x, 3).reshape(5, 3) # Reshapes the resulting array into 5, 3 dimensions\n",
    "print(f\"z is now {z}\")\n",
    "print(f\"Median of z along 0 axis is {np.median(z, axis=0)}\")\n",
    "print(f\"Median of z along 1 axis is {np.median(z, axis=1)}\")\n",
    "print(f\"Median of z is {np.median(z)}\")"
   ]
  },
  {
   "cell_type": "code",
   "execution_count": 13,
   "metadata": {},
   "outputs": [
    {
     "name": "stdout",
     "output_type": "stream",
     "text": [
      "x is [5 6 7 8 9]\n",
      "Add accumulator of x is [ 5 11 18 26 35]\n"
     ]
    }
   ],
   "source": [
    "# ufuncs not only provide optional arguments to tune operations, they also provide some built-in methods\n",
    "# Accumulate the result of applying add()\n",
    "print(f\"x is {x}\")\n",
    "print(f\"Add accumulator of x is {np.add.accumulate(x)}\")"
   ]
  },
  {
   "cell_type": "markdown",
   "metadata": {},
   "source": [
    "## 3) Broadcasting and shape manipulation\n",
    "Numpy operations are mostly done element-wise, which requires two arrays in an operation to have the same shape. But, this doesn't mean that NumPy operations can't take two differently shaped arrays. NumPy provides the flexibility to broadcast a smaller-sized array across a larger one. \n",
    "Not all array sizes are compatible with broadcasting, there are certain rules as shown below:\n",
    "<ul>\n",
    "    <li>Two arrays should be of equal dimensions</li>\n",
    "    <li>One of the array is 1</li>"
   ]
  },
  {
   "cell_type": "code",
   "execution_count": 15,
   "metadata": {},
   "outputs": [
    {
     "name": "stdout",
     "output_type": "stream",
     "text": [
      "x + y is [[ 1  2  3]\n",
      " [11 12 13]\n",
      " [21 22 23]]\n"
     ]
    }
   ],
   "source": [
    "x = np.array([[0, 0, 0],\n",
    "              [10, 10, 10],\n",
    "              [20, 20, 20]])\n",
    "y = np.array([1,2,3])\n",
    "print(f\"x + y is {x + y}\")"
   ]
  },
  {
   "cell_type": "markdown",
   "metadata": {},
   "source": [
    "In the above example, x has a shape of (3,3), y has shape of 3, but in NumPy broadcasting, the shape of y is translated to (3,1). So the second condition of the rule has been met, y has been broadcast to the same shape of x by repeating it."
   ]
  },
  {
   "cell_type": "code",
   "execution_count": 16,
   "metadata": {},
   "outputs": [
    {
     "name": "stdout",
     "output_type": "stream",
     "text": [
      "x is [[[ 0  1  2  3]\n",
      "  [ 4  5  6  7]\n",
      "  [ 8  9 10 11]]\n",
      "\n",
      " [[12 13 14 15]\n",
      "  [16 17 18 19]\n",
      "  [20 21 22 23]]]\n"
     ]
    }
   ],
   "source": [
    "# Reshaping NumPy Arrays\n",
    "x = np.arange(24)\n",
    "x.shape = 2, 3, -1\n",
    "print(f\"x is {x}\")"
   ]
  },
  {
   "cell_type": "code",
   "execution_count": 18,
   "metadata": {},
   "outputs": [
    {
     "name": "stdout",
     "output_type": "stream",
     "text": [
      "x over y vertical stacked is [[ 0  2  4  6  8]\n",
      " [ 0 -1 -2 -3 -4]]\n",
      "x over y horizontal stacked is [ 0  2  4  6  8  0 -1 -2 -3 -4]\n",
      "x over y diagonal stacked is [[[ 0  0]\n",
      "  [ 2 -1]\n",
      "  [ 4 -2]\n",
      "  [ 6 -3]\n",
      "  [ 8 -4]]]\n"
     ]
    }
   ],
   "source": [
    "# Vector Stacking\n",
    "x = np.arange(0, 10, 2)\n",
    "y = np.arange(0, -5, -1) # x and y are two equally-sized row vectors\n",
    "print(f\"x over y vertical stacked is {np.vstack([x, y])}\")\n",
    "print(f\"x over y horizontal stacked is {np.hstack([x, y])}\")\n",
    "print(f\"x over y diagonal stacked is {np.dstack([x, y])}\")"
   ]
  },
  {
   "cell_type": "code",
   "execution_count": 19,
   "metadata": {},
   "outputs": [
    {
     "name": "stdout",
     "output_type": "stream",
     "text": [
      "[False False  True False False  True]\n"
     ]
    }
   ],
   "source": [
    "# Boolean mask\n",
    "x = np.array([1,3,-1,5,7,-1])\n",
    "mask = (x < 0)\n",
    "print(mask)"
   ]
  },
  {
   "cell_type": "code",
   "execution_count": null,
   "metadata": {},
   "outputs": [],
   "source": []
  }
 ],
 "metadata": {
  "kernelspec": {
   "display_name": "Python 3",
   "language": "python",
   "name": "python3"
  },
  "language_info": {
   "codemirror_mode": {
    "name": "ipython",
    "version": 3
   },
   "file_extension": ".py",
   "mimetype": "text/x-python",
   "name": "python",
   "nbconvert_exporter": "python",
   "pygments_lexer": "ipython3",
   "version": "3.7.6"
  }
 },
 "nbformat": 4,
 "nbformat_minor": 4
}
