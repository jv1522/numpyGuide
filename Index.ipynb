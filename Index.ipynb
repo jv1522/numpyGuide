{
 "cells": [
  {
   "cell_type": "markdown",
   "metadata": {},
   "source": [
    "## Numpy Guide\n",
    "[1 Numpy ndarray object](1_Numpy_ndarray_object.ipynb)"
   ]
  },
  {
   "cell_type": "code",
   "execution_count": null,
   "metadata": {},
   "outputs": [],
   "source": []
  }
 ],
 "metadata": {
  "kernelspec": {
   "display_name": "Python 3",
   "language": "python",
   "name": "python3"
  },
  "language_info": {
   "codemirror_mode": {
    "name": "ipython",
    "version": 3
   },
   "file_extension": ".py",
   "mimetype": "text/x-python",
   "name": "python",
   "nbconvert_exporter": "python",
   "pygments_lexer": "ipython3",
   "version": "3.7.6"
  },
  "pycharm": {
   "stem_cell": {
    "cell_type": "raw",
    "metadata": {
     "collapsed": false
    },
    "source": [
     "{\n",
     " \"cells\": [\n",
     "  {\n",
     "   \"cell_type\": \"markdown\",\n",
     "   \"metadata\": {},\n",
     "   \"source\": [\n",
     "    \"## Numpy Guide\"\n",
     "   ]\n",
     "  },\n",
     "  {\n",
     "   \"cell_type\": \"markdown\",\n",
     "   \"metadata\": {},\n",
     "   \"source\": [\n",
     "    \"[1 Numpy ndarray Object](1_Numpy_ndarray_object.ipynb)\\n\",\n",
     "    \"\\n\",\n",
     "    \"[2 Using NumPy Arrays](2_Using_Numpy_Arrays.ipynb)\\n\",\n",
     "    \"\\n\",\n",
     "    \"[3 Numpy Core and Libs Submodules](3_Numpy_Core_and_Libs_Submodules.ipynb)\\n\",\n",
     "    \"\\n\",\n",
     "    \"[4 Linear Algebra in Numpy](4_Linear_Algebra_in_Numpy.ipynb)\"\n",
     "   ]\n",
     "  }\n",
     " ],\n",
     " \"metadata\": {\n",
     "  \"kernelspec\": {\n",
     "   \"display_name\": \"Python 3\",\n",
     "   \"language\": \"python\",\n",
     "   \"name\": \"python3\"\n",
     "  },\n",
     "  \"language_info\": {\n",
     "   \"codemirror_mode\": {\n",
     "    \"name\": \"ipython\",\n",
     "    \"version\": 3\n",
     "   },\n",
     "   \"file_extension\": \".py\",\n",
     "   \"mimetype\": \"text/x-python\",\n",
     "   \"name\": \"python\",\n",
     "   \"nbconvert_exporter\": \"python\",\n",
     "   \"pygments_lexer\": \"ipython3\",\n",
     "   \"version\": \"3.6.8\"\n",
     "  }\n",
     " },\n",
     " \"nbformat\": 4,\n",
     " \"nbformat_minor\": 4\n",
     "}\n"
    ]
   }
  }
 },
 "nbformat": 4,
 "nbformat_minor": 4
}
